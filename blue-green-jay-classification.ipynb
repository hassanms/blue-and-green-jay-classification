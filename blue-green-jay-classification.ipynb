{
  "nbformat": 4,
  "nbformat_minor": 0,
  "metadata": {
    "colab": {
      "name": "blue_Jay_classification.ipynb",
      "provenance": [],
      "collapsed_sections": []
    },
    "kernelspec": {
      "name": "python3",
      "display_name": "Python 3"
    },
    "accelerator": "GPU"
  },
  "cells": [
    {
      "cell_type": "markdown",
      "metadata": {
        "id": "6epkrz9f85qA",
        "colab_type": "text"
      },
      "source": [
        "The purpose of this project is to classify between Blue Jay and Green Jay.\n",
        "\n",
        "I will be using *Caltech-UCSA Birds 200* data for it. The dataset contains 6,033 images of birds for 200 different categories. \n",
        "\n",
        "Download it from [here](http://www.vision.caltech.edu/visipedia/CUB-200.html)"
      ]
    },
    {
      "cell_type": "markdown",
      "metadata": {
        "id": "dye_XM0l-uoY",
        "colab_type": "text"
      },
      "source": [
        "Let's make some imports to be used in the code"
      ]
    },
    {
      "cell_type": "code",
      "metadata": {
        "id": "S_s6c-dhyfgc",
        "colab_type": "code",
        "colab": {}
      },
      "source": [
        "import tensorflow as tf\n",
        "import matplotlib.pyplot as plt\n",
        "import numpy as np\n",
        "\n",
        "from keras import layers\n",
        "from keras import models\n",
        "from keras import optimizers\n",
        "from keras.preprocessing.image import ImageDataGenerator\n",
        "from keras.preprocessing import image"
      ],
      "execution_count": 0,
      "outputs": []
    },
    {
      "cell_type": "code",
      "metadata": {
        "id": "7oh1gwZPvblK",
        "colab_type": "code",
        "colab": {}
      },
      "source": [
        "# Specifying directories where data is stored\n",
        "\n",
        "train_dir = 'blue_and_green_jays/train_dir'\n",
        "validation_dir = 'blue_and_green_jays/validation_dir'\n",
        "test_dir = 'blue_and_green_jays/test_dir'"
      ],
      "execution_count": 0,
      "outputs": []
    },
    {
      "cell_type": "code",
      "metadata": {
        "id": "d1cHcQIevvUf",
        "colab_type": "code",
        "colab": {}
      },
      "source": [
        "# Definig our CNN model \n",
        "\n",
        "model = models.Sequential() # Nature of the model - sequential\n",
        "model.add(layers.Conv2D(32, (3, 3), activation='relu', input_shape=(150, 150, 3))) # 2-dimensional convolutional layer\n",
        "model.add(layers.MaxPooling2D((2, 2))) # adds max pooling layer\n",
        "model.add(layers.Conv2D(64, (3, 3), activation='relu')) # 2-dimensional convolutional layer\n",
        "model.add(layers.MaxPooling2D((2, 2))) # adds max pooling layer\n",
        "model.add(layers.Conv2D(128, (3, 3), activation='relu')) # 2-dimensional convolutional layer\n",
        "model.add(layers.MaxPooling2D((2, 2))) # adds max pooling layer\n",
        "model.add(layers.Flatten())\n",
        "model.add(layers.Dense(512, activation='relu'))\n",
        "model.add(layers.Dense(1, activation='sigmoid'))"
      ],
      "execution_count": 0,
      "outputs": []
    },
    {
      "cell_type": "code",
      "metadata": {
        "id": "kQyxvuRexEJz",
        "colab_type": "code",
        "colab": {}
      },
      "source": [
        "# model.summary()"
      ],
      "execution_count": 0,
      "outputs": []
    },
    {
      "cell_type": "code",
      "metadata": {
        "id": "oGgeVHMY1Hz9",
        "colab_type": "code",
        "colab": {}
      },
      "source": [
        "# Building the CNN model\n",
        "\n",
        "model.compile(loss='binary_crossentropy',\n",
        "              optimizer=optimizers.RMSprop(lr=1e-4),\n",
        "              metrics=['acc'])"
      ],
      "execution_count": 0,
      "outputs": []
    },
    {
      "cell_type": "code",
      "metadata": {
        "id": "jb3TD8t12zYF",
        "colab_type": "code",
        "colab": {}
      },
      "source": [
        "# Getting data into shape to be fed into the neural network\n",
        "\n",
        "train_datagen = ImageDataGenerator(rescale=1./255)\n",
        "test_datagen = ImageDataGenerator(rescale=1./255)\n",
        "\n",
        "train_generator = train_datagen.flow_from_directory(\n",
        "                                                    train_dir,\n",
        "                                                    target_size=(150, 150),\n",
        "                                                    batch_size=20,\n",
        "                                                    class_mode='binary')\n",
        "\n",
        "validation_generator = test_datagen.flow_from_directory(\n",
        "                                                    validation_dir,\n",
        "                                                    target_size=(150, 150),\n",
        "                                                    batch_size=20,\n",
        "                                                    class_mode='binary')"
      ],
      "execution_count": 0,
      "outputs": []
    },
    {
      "cell_type": "code",
      "metadata": {
        "id": "Hdbgt_WG4ff9",
        "colab_type": "code",
        "colab": {}
      },
      "source": [
        "# Training of the neural network\n",
        "\n",
        "history = model.fit_generator(train_generator,\n",
        "                              steps_per_epoch=100,\n",
        "                              epochs=5,\n",
        "                              validation_data=validation_generator,\n",
        "                              validation_steps=50)"
      ],
      "execution_count": 0,
      "outputs": []
    },
    {
      "cell_type": "code",
      "metadata": {
        "id": "VN7qOcmL-GC7",
        "colab_type": "code",
        "colab": {}
      },
      "source": [
        "# Test data processing\n",
        "\n",
        "test_generator = test_datagen.flow_from_directory(\n",
        "                                                  test_dir,\n",
        "                                                  target_size=(150, 150),\n",
        "                                                  batch_size=20,\n",
        "                                                  class_mode='binary')"
      ],
      "execution_count": 0,
      "outputs": []
    },
    {
      "cell_type": "code",
      "metadata": {
        "id": "Xi3lHfbricq3",
        "colab_type": "code",
        "colab": {}
      },
      "source": [
        "# Checking out the model's test accuracy\n",
        "\n",
        "test_loss, test_acc = model.evaluate_generator(test_generator, steps=50)\n",
        "print('test acc:', test_acc)"
      ],
      "execution_count": 0,
      "outputs": []
    },
    {
      "cell_type": "code",
      "metadata": {
        "id": "eILFmdoH_UBh",
        "colab_type": "code",
        "colab": {}
      },
      "source": [
        "# Testing a single image\n",
        "\n",
        "img = image.load_img('drive/My Drive/Colab Notebooks/green-jay-01.jpg', target_size=(150,150))\n",
        "x = image.img_to_array(img)\n",
        "x = np.expand_dims(x, axis=0)\n",
        "x /= 255.\n",
        "\n",
        "if(model.predict(x)[0] < 0.5):\n",
        "  print(\"This is Blue Jay\")\n",
        "else:\n",
        "  print(\"This is not a Blue Jay\")"
      ],
      "execution_count": 0,
      "outputs": []
    }
  ]
}